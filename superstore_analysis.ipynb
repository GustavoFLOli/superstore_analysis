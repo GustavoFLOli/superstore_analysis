{
  "nbformat": 4,
  "nbformat_minor": 0,
  "metadata": {
    "colab": {
      "provenance": [],
      "toc_visible": true
    },
    "kernelspec": {
      "name": "python3",
      "display_name": "Python 3"
    },
    "language_info": {
      "name": "python"
    }
  },
  "cells": [
    {
      "cell_type": "markdown",
      "source": [
        "#Bibliotecas"
      ],
      "metadata": {
        "id": "Oq_n3XL00pAA"
      }
    },
    {
      "cell_type": "markdown",
      "source": [
        "Importando todas as bibliotecas necessárias:"
      ],
      "metadata": {
        "id": "pnAU8g_-0a4Q"
      }
    },
    {
      "cell_type": "code",
      "execution_count": 1,
      "metadata": {
        "id": "Uw8u0sWkyUVM"
      },
      "outputs": [],
      "source": [
        "import kagglehub\n",
        "import pandas as pd\n",
        "import numpy as np\n",
        "import matplotlib.pyplot as plt\n",
        "import seaborn as sns\n",
        "import zipfile\n",
        "import os"
      ]
    },
    {
      "cell_type": "markdown",
      "source": [
        "#Download e correções no arquivo CSV"
      ],
      "metadata": {
        "id": "5SNpTdWG0oi8"
      }
    },
    {
      "cell_type": "markdown",
      "source": [
        "Fazendo o download do arquivo CSV diretamente do Kaggle:"
      ],
      "metadata": {
        "id": "jOrULT-x0XMJ"
      }
    },
    {
      "cell_type": "code",
      "source": [
        "# Download do dataset\n",
        "path = kagglehub.dataset_download(\"jacopoferretti/superstore-dataset\")\n",
        "\n",
        "print(\"Path to dataset files:\", path)"
      ],
      "metadata": {
        "colab": {
          "base_uri": "https://localhost:8080/"
        },
        "id": "Zcg5m5WDyroI",
        "outputId": "352be5fb-c21c-47c4-95ed-7a38ffd29ff3"
      },
      "execution_count": 2,
      "outputs": [
        {
          "output_type": "stream",
          "name": "stdout",
          "text": [
            "Downloading from https://www.kaggle.com/api/v1/datasets/download/jacopoferretti/superstore-dataset?dataset_version_number=1...\n"
          ]
        },
        {
          "output_type": "stream",
          "name": "stderr",
          "text": [
            "100%|██████████| 550k/550k [00:00<00:00, 23.1MB/s]"
          ]
        },
        {
          "output_type": "stream",
          "name": "stdout",
          "text": [
            "Extracting files...\n",
            "Path to dataset files: /root/.cache/kagglehub/datasets/jacopoferretti/superstore-dataset/versions/1\n"
          ]
        },
        {
          "output_type": "stream",
          "name": "stderr",
          "text": [
            "\n"
          ]
        }
      ]
    },
    {
      "cell_type": "markdown",
      "source": [
        "Verificando o nome do arquivo CSV:"
      ],
      "metadata": {
        "id": "BntLpY1I0SQJ"
      }
    },
    {
      "cell_type": "code",
      "source": [
        "# Caminho retornado pelo kagglehub\n",
        "path = '/root/.cache/kagglehub/datasets/jacopoferretti/superstore-dataset/versions/1'\n",
        "\n",
        "# Listar arquivos no diretório\n",
        "files = os.listdir(path)\n",
        "print(\"Arquivos no diretório:\", files)"
      ],
      "metadata": {
        "colab": {
          "base_uri": "https://localhost:8080/"
        },
        "id": "WY8yv7Zcy2Z9",
        "outputId": "f5c58d88-69fb-44bd-a360-eab0bb029563"
      },
      "execution_count": 3,
      "outputs": [
        {
          "output_type": "stream",
          "name": "stdout",
          "text": [
            "Arquivos no diretório: ['Sample - Superstore.csv']\n"
          ]
        }
      ]
    },
    {
      "cell_type": "markdown",
      "source": [
        "Renomeando o arquivo CSV para \"superstore.csv\":"
      ],
      "metadata": {
        "id": "HlzBE2xG0Nbo"
      }
    },
    {
      "cell_type": "code",
      "source": [
        "# Caminho completo do arquivo original\n",
        "old_name = os.path.join(path, 'Sample - Superstore.csv')\n",
        "\n",
        "# Caminho completo do novo nome\n",
        "new_name = os.path.join(path, 'superstore.csv')\n",
        "\n",
        "# Renomear o arquivo\n",
        "os.rename(old_name, new_name)\n",
        "\n",
        "# Verificar se o arquivo foi renomeado\n",
        "print(\"Arquivos no diretório após renomeação:\", os.listdir(path))"
      ],
      "metadata": {
        "colab": {
          "base_uri": "https://localhost:8080/"
        },
        "id": "8FWF0yOgz_mm",
        "outputId": "8d705431-2fa3-47c7-da66-6067514f46a8"
      },
      "execution_count": 4,
      "outputs": [
        {
          "output_type": "stream",
          "name": "stdout",
          "text": [
            "Arquivos no diretório após renomeação: ['superstore.csv']\n"
          ]
        }
      ]
    },
    {
      "cell_type": "markdown",
      "source": [
        "#Verificação do Dataset"
      ],
      "metadata": {
        "id": "W6GSaE7l0hqH"
      }
    },
    {
      "cell_type": "markdown",
      "source": [
        "Carregando o arquivo CSV:"
      ],
      "metadata": {
        "id": "dY7c864r0yOq"
      }
    },
    {
      "cell_type": "code",
      "source": [
        "import pandas as pd\n",
        "\n",
        "# Caminho completo para o arquivo CSV renomeado\n",
        "csv_path = os.path.join(path, 'superstore.csv')\n",
        "\n",
        "# Carregar o dataset\n",
        "df = pd.read_csv(csv_path, encoding='latin1')"
      ],
      "metadata": {
        "id": "cAWYDW_B0Da0"
      },
      "execution_count": 5,
      "outputs": []
    },
    {
      "cell_type": "markdown",
      "source": [
        "Verificando os dados:"
      ],
      "metadata": {
        "id": "rYTFI99O01QV"
      }
    },
    {
      "cell_type": "code",
      "source": [
        "# Visualizar as primeiras linhas\n",
        "print(df.head())"
      ],
      "metadata": {
        "colab": {
          "base_uri": "https://localhost:8080/"
        },
        "id": "B1FrHE_b04dr",
        "outputId": "e292465e-e640-4d78-f19c-434b7380709c"
      },
      "execution_count": 6,
      "outputs": [
        {
          "output_type": "stream",
          "name": "stdout",
          "text": [
            "   Row ID        Order ID  Order Date   Ship Date       Ship Mode Customer ID  \\\n",
            "0       1  CA-2016-152156   11/8/2016  11/11/2016    Second Class    CG-12520   \n",
            "1       2  CA-2016-152156   11/8/2016  11/11/2016    Second Class    CG-12520   \n",
            "2       3  CA-2016-138688   6/12/2016   6/16/2016    Second Class    DV-13045   \n",
            "3       4  US-2015-108966  10/11/2015  10/18/2015  Standard Class    SO-20335   \n",
            "4       5  US-2015-108966  10/11/2015  10/18/2015  Standard Class    SO-20335   \n",
            "\n",
            "     Customer Name    Segment        Country             City  ...  \\\n",
            "0      Claire Gute   Consumer  United States        Henderson  ...   \n",
            "1      Claire Gute   Consumer  United States        Henderson  ...   \n",
            "2  Darrin Van Huff  Corporate  United States      Los Angeles  ...   \n",
            "3   Sean O'Donnell   Consumer  United States  Fort Lauderdale  ...   \n",
            "4   Sean O'Donnell   Consumer  United States  Fort Lauderdale  ...   \n",
            "\n",
            "  Postal Code  Region       Product ID         Category Sub-Category  \\\n",
            "0       42420   South  FUR-BO-10001798        Furniture    Bookcases   \n",
            "1       42420   South  FUR-CH-10000454        Furniture       Chairs   \n",
            "2       90036    West  OFF-LA-10000240  Office Supplies       Labels   \n",
            "3       33311   South  FUR-TA-10000577        Furniture       Tables   \n",
            "4       33311   South  OFF-ST-10000760  Office Supplies      Storage   \n",
            "\n",
            "                                        Product Name     Sales  Quantity  \\\n",
            "0                  Bush Somerset Collection Bookcase  261.9600         2   \n",
            "1  Hon Deluxe Fabric Upholstered Stacking Chairs,...  731.9400         3   \n",
            "2  Self-Adhesive Address Labels for Typewriters b...   14.6200         2   \n",
            "3      Bretford CR4500 Series Slim Rectangular Table  957.5775         5   \n",
            "4                     Eldon Fold 'N Roll Cart System   22.3680         2   \n",
            "\n",
            "   Discount    Profit  \n",
            "0      0.00   41.9136  \n",
            "1      0.00  219.5820  \n",
            "2      0.00    6.8714  \n",
            "3      0.45 -383.0310  \n",
            "4      0.20    2.5164  \n",
            "\n",
            "[5 rows x 21 columns]\n"
          ]
        }
      ]
    },
    {
      "cell_type": "code",
      "source": [
        "# Verificar informações do dataset\n",
        "print(df.info())"
      ],
      "metadata": {
        "colab": {
          "base_uri": "https://localhost:8080/"
        },
        "id": "mNMWOZ0c1Ase",
        "outputId": "ca6bd217-f051-4536-bdb6-d7a7372ceb5f"
      },
      "execution_count": 7,
      "outputs": [
        {
          "output_type": "stream",
          "name": "stdout",
          "text": [
            "<class 'pandas.core.frame.DataFrame'>\n",
            "RangeIndex: 9994 entries, 0 to 9993\n",
            "Data columns (total 21 columns):\n",
            " #   Column         Non-Null Count  Dtype  \n",
            "---  ------         --------------  -----  \n",
            " 0   Row ID         9994 non-null   int64  \n",
            " 1   Order ID       9994 non-null   object \n",
            " 2   Order Date     9994 non-null   object \n",
            " 3   Ship Date      9994 non-null   object \n",
            " 4   Ship Mode      9994 non-null   object \n",
            " 5   Customer ID    9994 non-null   object \n",
            " 6   Customer Name  9994 non-null   object \n",
            " 7   Segment        9994 non-null   object \n",
            " 8   Country        9994 non-null   object \n",
            " 9   City           9994 non-null   object \n",
            " 10  State          9994 non-null   object \n",
            " 11  Postal Code    9994 non-null   int64  \n",
            " 12  Region         9994 non-null   object \n",
            " 13  Product ID     9994 non-null   object \n",
            " 14  Category       9994 non-null   object \n",
            " 15  Sub-Category   9994 non-null   object \n",
            " 16  Product Name   9994 non-null   object \n",
            " 17  Sales          9994 non-null   float64\n",
            " 18  Quantity       9994 non-null   int64  \n",
            " 19  Discount       9994 non-null   float64\n",
            " 20  Profit         9994 non-null   float64\n",
            "dtypes: float64(3), int64(3), object(15)\n",
            "memory usage: 1.6+ MB\n",
            "None\n"
          ]
        }
      ]
    },
    {
      "cell_type": "code",
      "source": [
        "# Verificar valores nulos\n",
        "print(df.isnull().sum())"
      ],
      "metadata": {
        "colab": {
          "base_uri": "https://localhost:8080/"
        },
        "id": "geMINui81Dvt",
        "outputId": "d2e1ab00-892f-4a06-9de8-37dcf4e23752"
      },
      "execution_count": 8,
      "outputs": [
        {
          "output_type": "stream",
          "name": "stdout",
          "text": [
            "Row ID           0\n",
            "Order ID         0\n",
            "Order Date       0\n",
            "Ship Date        0\n",
            "Ship Mode        0\n",
            "Customer ID      0\n",
            "Customer Name    0\n",
            "Segment          0\n",
            "Country          0\n",
            "City             0\n",
            "State            0\n",
            "Postal Code      0\n",
            "Region           0\n",
            "Product ID       0\n",
            "Category         0\n",
            "Sub-Category     0\n",
            "Product Name     0\n",
            "Sales            0\n",
            "Quantity         0\n",
            "Discount         0\n",
            "Profit           0\n",
            "dtype: int64\n"
          ]
        }
      ]
    },
    {
      "cell_type": "markdown",
      "source": [
        "#Tratamento dos Dados"
      ],
      "metadata": {
        "id": "QsRsv5ys39hM"
      }
    },
    {
      "cell_type": "markdown",
      "source": [
        "##Verificar e Limpar os Dados"
      ],
      "metadata": {
        "id": "G4WAK0LO5Mxo"
      }
    },
    {
      "cell_type": "code",
      "source": [
        "# Verificar valores nulos\n",
        "print(df.isnull().sum())\n",
        "\n",
        "# Removendo valores nulos (se houver)\n",
        "df = df.dropna()"
      ],
      "metadata": {
        "colab": {
          "base_uri": "https://localhost:8080/"
        },
        "id": "dDZZc4vN4Gno",
        "outputId": "e048269c-1b52-462b-c8e8-0b249ecd5090"
      },
      "execution_count": 9,
      "outputs": [
        {
          "output_type": "stream",
          "name": "stdout",
          "text": [
            "Row ID           0\n",
            "Order ID         0\n",
            "Order Date       0\n",
            "Ship Date        0\n",
            "Ship Mode        0\n",
            "Customer ID      0\n",
            "Customer Name    0\n",
            "Segment          0\n",
            "Country          0\n",
            "City             0\n",
            "State            0\n",
            "Postal Code      0\n",
            "Region           0\n",
            "Product ID       0\n",
            "Category         0\n",
            "Sub-Category     0\n",
            "Product Name     0\n",
            "Sales            0\n",
            "Quantity         0\n",
            "Discount         0\n",
            "Profit           0\n",
            "dtype: int64\n"
          ]
        }
      ]
    },
    {
      "cell_type": "code",
      "source": [
        "# Verificar duplicatas\n",
        "print(df.duplicated().sum())\n",
        "\n",
        "# Remover duplicatas (se houver)\n",
        "df = df.drop_duplicates()"
      ],
      "metadata": {
        "colab": {
          "base_uri": "https://localhost:8080/"
        },
        "id": "JUh2wxEU4odg",
        "outputId": "0e642d96-43a3-4a08-e3c4-01229b5ca3fa"
      },
      "execution_count": 10,
      "outputs": [
        {
          "output_type": "stream",
          "name": "stdout",
          "text": [
            "0\n"
          ]
        }
      ]
    },
    {
      "cell_type": "markdown",
      "source": [
        "##Variáveis de tempo"
      ],
      "metadata": {
        "id": "yhabz5Wu5PPc"
      }
    },
    {
      "cell_type": "code",
      "source": [
        "# Converter colunas de data\n",
        "df['Order Date'] = pd.to_datetime(df['Order Date'], format='%m/%d/%Y')\n",
        "df['Ship Date'] = pd.to_datetime(df['Ship Date'], format='%m/%d/%Y')"
      ],
      "metadata": {
        "id": "cs_K8rem4p-l"
      },
      "execution_count": 11,
      "outputs": []
    },
    {
      "cell_type": "code",
      "source": [
        "# Criar novas variáveis de tempo\n",
        "df['Order Month'] = df['Order Date'].dt.month\n",
        "df['Order Year'] = df['Order Date'].dt.year\n",
        "df['Order Day of Week'] = df['Order Date'].dt.day_name()"
      ],
      "metadata": {
        "id": "u7nicmm847ph"
      },
      "execution_count": 12,
      "outputs": []
    },
    {
      "cell_type": "markdown",
      "source": [
        "##Novas variáveis"
      ],
      "metadata": {
        "id": "eZypwwlG5YaH"
      }
    },
    {
      "cell_type": "code",
      "source": [
        "# Tempo de entrega\n",
        "df['Delivery Time'] = (df['Ship Date'] - df['Order Date']).dt.days"
      ],
      "metadata": {
        "id": "SZoJOoTu48yT"
      },
      "execution_count": 13,
      "outputs": []
    },
    {
      "cell_type": "code",
      "source": [
        "# Margem de lucro\n",
        "df['Profit Margin'] = (df['Profit'] / df['Sales']) * 100"
      ],
      "metadata": {
        "id": "UHlj0Zve5tG-"
      },
      "execution_count": 14,
      "outputs": []
    },
    {
      "cell_type": "markdown",
      "source": [
        "##Codificar variáveis categóricas\n",
        "\n"
      ],
      "metadata": {
        "id": "ICCERw625vcg"
      }
    },
    {
      "cell_type": "code",
      "source": [
        "# Verificar colunas categóricas\n",
        "print(df.select_dtypes(include=['object']).columns)"
      ],
      "metadata": {
        "colab": {
          "base_uri": "https://localhost:8080/"
        },
        "id": "M-rJJC4y5xtx",
        "outputId": "acc55cc0-f59f-42e9-f338-bd7649753804"
      },
      "execution_count": 15,
      "outputs": [
        {
          "output_type": "stream",
          "name": "stdout",
          "text": [
            "Index(['Order ID', 'Ship Mode', 'Customer ID', 'Customer Name', 'Segment',\n",
            "       'Country', 'City', 'State', 'Region', 'Product ID', 'Category',\n",
            "       'Sub-Category', 'Product Name', 'Order Day of Week'],\n",
            "      dtype='object')\n"
          ]
        }
      ]
    },
    {
      "cell_type": "code",
      "source": [
        "# Aplicar one-hot encoding nas colunas selecionadas\n",
        "df_encoded = pd.get_dummies(df, columns=['Ship Mode', 'Segment', 'Region', 'Category', 'Sub-Category', 'Order Day of Week'])\n",
        "\n",
        "# Verificar o resultado\n",
        "print(df_encoded.head())"
      ],
      "metadata": {
        "colab": {
          "base_uri": "https://localhost:8080/"
        },
        "id": "bX8iUNLT6GTY",
        "outputId": "ff6dd52a-7333-43e5-9ee4-93c508486905"
      },
      "execution_count": 16,
      "outputs": [
        {
          "output_type": "stream",
          "name": "stdout",
          "text": [
            "   Row ID        Order ID Order Date  Ship Date Customer ID    Customer Name  \\\n",
            "0       1  CA-2016-152156 2016-11-08 2016-11-11    CG-12520      Claire Gute   \n",
            "1       2  CA-2016-152156 2016-11-08 2016-11-11    CG-12520      Claire Gute   \n",
            "2       3  CA-2016-138688 2016-06-12 2016-06-16    DV-13045  Darrin Van Huff   \n",
            "3       4  US-2015-108966 2015-10-11 2015-10-18    SO-20335   Sean O'Donnell   \n",
            "4       5  US-2015-108966 2015-10-11 2015-10-18    SO-20335   Sean O'Donnell   \n",
            "\n",
            "         Country             City       State  Postal Code  ...  \\\n",
            "0  United States        Henderson    Kentucky        42420  ...   \n",
            "1  United States        Henderson    Kentucky        42420  ...   \n",
            "2  United States      Los Angeles  California        90036  ...   \n",
            "3  United States  Fort Lauderdale     Florida        33311  ...   \n",
            "4  United States  Fort Lauderdale     Florida        33311  ...   \n",
            "\n",
            "  Sub-Category_Storage Sub-Category_Supplies  Sub-Category_Tables  \\\n",
            "0                False                 False                False   \n",
            "1                False                 False                False   \n",
            "2                False                 False                False   \n",
            "3                False                 False                 True   \n",
            "4                 True                 False                False   \n",
            "\n",
            "   Order Day of Week_Friday  Order Day of Week_Monday  \\\n",
            "0                     False                     False   \n",
            "1                     False                     False   \n",
            "2                     False                     False   \n",
            "3                     False                     False   \n",
            "4                     False                     False   \n",
            "\n",
            "   Order Day of Week_Saturday  Order Day of Week_Sunday  \\\n",
            "0                       False                     False   \n",
            "1                       False                     False   \n",
            "2                       False                      True   \n",
            "3                       False                      True   \n",
            "4                       False                      True   \n",
            "\n",
            "   Order Day of Week_Thursday  Order Day of Week_Tuesday  \\\n",
            "0                       False                       True   \n",
            "1                       False                       True   \n",
            "2                       False                      False   \n",
            "3                       False                      False   \n",
            "4                       False                      False   \n",
            "\n",
            "   Order Day of Week_Wednesday  \n",
            "0                        False  \n",
            "1                        False  \n",
            "2                        False  \n",
            "3                        False  \n",
            "4                        False  \n",
            "\n",
            "[5 rows x 58 columns]\n"
          ]
        }
      ]
    },
    {
      "cell_type": "markdown",
      "source": [
        "## Verificar e corrigir os tipos de dados"
      ],
      "metadata": {
        "id": "pLuoRzfM6ujb"
      }
    },
    {
      "cell_type": "code",
      "source": [
        "# Verificar tipos de dados\n",
        "print(df.dtypes)"
      ],
      "metadata": {
        "colab": {
          "base_uri": "https://localhost:8080/"
        },
        "id": "D8HjLdJU62gM",
        "outputId": "b2ff9cdc-c667-4fd8-cb85-6eee4e813344"
      },
      "execution_count": 17,
      "outputs": [
        {
          "output_type": "stream",
          "name": "stdout",
          "text": [
            "Row ID                        int64\n",
            "Order ID                     object\n",
            "Order Date           datetime64[ns]\n",
            "Ship Date            datetime64[ns]\n",
            "Ship Mode                    object\n",
            "Customer ID                  object\n",
            "Customer Name                object\n",
            "Segment                      object\n",
            "Country                      object\n",
            "City                         object\n",
            "State                        object\n",
            "Postal Code                   int64\n",
            "Region                       object\n",
            "Product ID                   object\n",
            "Category                     object\n",
            "Sub-Category                 object\n",
            "Product Name                 object\n",
            "Sales                       float64\n",
            "Quantity                      int64\n",
            "Discount                    float64\n",
            "Profit                      float64\n",
            "Order Month                   int32\n",
            "Order Year                    int32\n",
            "Order Day of Week            object\n",
            "Delivery Time                 int64\n",
            "Profit Margin               float64\n",
            "dtype: object\n"
          ]
        }
      ]
    },
    {
      "cell_type": "code",
      "source": [
        "# Converter colunas\n",
        "df['Postal Code'] = df['Postal Code'].astype('object')\n",
        "df['Order Month'] = df['Order Month'].astype('category')\n",
        "df['Order Year'] = df['Order Year'].astype('category')\n",
        "\n",
        "# Definir a ordem dos dias da semana\n",
        "weekday_order = ['Monday', 'Tuesday', 'Wednesday', 'Thursday', 'Friday', 'Saturday', 'Sunday']\n",
        "df['Order Day of Week'] = pd.Categorical(df['Order Day of Week'], categories=weekday_order, ordered=True)\n",
        "\n",
        "# Converter colunas categóricas\n",
        "categorical_columns = ['Ship Mode', 'Segment', 'Category', 'Sub-Category', 'Region']\n",
        "df[categorical_columns] = df[categorical_columns].astype('category')\n",
        "\n",
        "# Verificar tipos de dados após ajustes\n",
        "print(df.dtypes)"
      ],
      "metadata": {
        "colab": {
          "base_uri": "https://localhost:8080/"
        },
        "id": "ggj2AMYW7MFS",
        "outputId": "e7f1ab01-c7fe-4805-a58d-5367493ef815"
      },
      "execution_count": 18,
      "outputs": [
        {
          "output_type": "stream",
          "name": "stdout",
          "text": [
            "Row ID                        int64\n",
            "Order ID                     object\n",
            "Order Date           datetime64[ns]\n",
            "Ship Date            datetime64[ns]\n",
            "Ship Mode                  category\n",
            "Customer ID                  object\n",
            "Customer Name                object\n",
            "Segment                    category\n",
            "Country                      object\n",
            "City                         object\n",
            "State                        object\n",
            "Postal Code                  object\n",
            "Region                     category\n",
            "Product ID                   object\n",
            "Category                   category\n",
            "Sub-Category               category\n",
            "Product Name                 object\n",
            "Sales                       float64\n",
            "Quantity                      int64\n",
            "Discount                    float64\n",
            "Profit                      float64\n",
            "Order Month                category\n",
            "Order Year                 category\n",
            "Order Day of Week          category\n",
            "Delivery Time                 int64\n",
            "Profit Margin               float64\n",
            "dtype: object\n"
          ]
        }
      ]
    },
    {
      "cell_type": "markdown",
      "source": [
        "## Salvar e carregar dados tratados"
      ],
      "metadata": {
        "id": "d5r-q23H7jLF"
      }
    },
    {
      "cell_type": "code",
      "source": [
        "# Salvar o dataset tratado\n",
        "df.to_csv('superstore_tratado.csv', index=False)"
      ],
      "metadata": {
        "id": "xs9mBKD07lcd"
      },
      "execution_count": 19,
      "outputs": []
    },
    {
      "cell_type": "code",
      "source": [
        "# Carregar o dataset tratado\n",
        "df = pd.read_csv('superstore_tratado.csv')\n",
        "\n",
        "# Verificar as primeiras linhas\n",
        "print(df.head())"
      ],
      "metadata": {
        "colab": {
          "base_uri": "https://localhost:8080/"
        },
        "id": "W0HpjnCV8nfv",
        "outputId": "8eaf3aeb-2b3c-4a7f-ad29-84220726c711"
      },
      "execution_count": 20,
      "outputs": [
        {
          "output_type": "stream",
          "name": "stdout",
          "text": [
            "   Row ID        Order ID  Order Date   Ship Date       Ship Mode Customer ID  \\\n",
            "0       1  CA-2016-152156  2016-11-08  2016-11-11    Second Class    CG-12520   \n",
            "1       2  CA-2016-152156  2016-11-08  2016-11-11    Second Class    CG-12520   \n",
            "2       3  CA-2016-138688  2016-06-12  2016-06-16    Second Class    DV-13045   \n",
            "3       4  US-2015-108966  2015-10-11  2015-10-18  Standard Class    SO-20335   \n",
            "4       5  US-2015-108966  2015-10-11  2015-10-18  Standard Class    SO-20335   \n",
            "\n",
            "     Customer Name    Segment        Country             City  ...  \\\n",
            "0      Claire Gute   Consumer  United States        Henderson  ...   \n",
            "1      Claire Gute   Consumer  United States        Henderson  ...   \n",
            "2  Darrin Van Huff  Corporate  United States      Los Angeles  ...   \n",
            "3   Sean O'Donnell   Consumer  United States  Fort Lauderdale  ...   \n",
            "4   Sean O'Donnell   Consumer  United States  Fort Lauderdale  ...   \n",
            "\n",
            "                                        Product Name     Sales Quantity  \\\n",
            "0                  Bush Somerset Collection Bookcase  261.9600        2   \n",
            "1  Hon Deluxe Fabric Upholstered Stacking Chairs,...  731.9400        3   \n",
            "2  Self-Adhesive Address Labels for Typewriters b...   14.6200        2   \n",
            "3      Bretford CR4500 Series Slim Rectangular Table  957.5775        5   \n",
            "4                     Eldon Fold 'N Roll Cart System   22.3680        2   \n",
            "\n",
            "  Discount    Profit Order Month Order Year  Order Day of Week  Delivery Time  \\\n",
            "0     0.00   41.9136          11       2016            Tuesday              3   \n",
            "1     0.00  219.5820          11       2016            Tuesday              3   \n",
            "2     0.00    6.8714           6       2016             Sunday              4   \n",
            "3     0.45 -383.0310          10       2015             Sunday              7   \n",
            "4     0.20    2.5164          10       2015             Sunday              7   \n",
            "\n",
            "   Profit Margin  \n",
            "0          16.00  \n",
            "1          30.00  \n",
            "2          47.00  \n",
            "3         -40.00  \n",
            "4          11.25  \n",
            "\n",
            "[5 rows x 26 columns]\n"
          ]
        }
      ]
    },
    {
      "cell_type": "markdown",
      "source": [
        "#Análise exploratória inicial (EDA)"
      ],
      "metadata": {
        "id": "OGRQP0mT1LDB"
      }
    },
    {
      "cell_type": "markdown",
      "source": [
        "##Estatísticas descritivas"
      ],
      "metadata": {
        "id": "tSkFN9qZ1O8U"
      }
    },
    {
      "cell_type": "code",
      "source": [
        "# Estatísticas descritivas para colunas numéricas\n",
        "print(df[['Sales', 'Profit', 'Quantity', 'Discount', 'Delivery Time', 'Profit Margin']].describe())"
      ],
      "metadata": {
        "colab": {
          "base_uri": "https://localhost:8080/"
        },
        "id": "ckZE8w_31NxA",
        "outputId": "db60bb65-af11-48ac-93e7-7f6054dd09f6"
      },
      "execution_count": 21,
      "outputs": [
        {
          "output_type": "stream",
          "name": "stdout",
          "text": [
            "              Sales       Profit     Quantity     Discount  Delivery Time  \\\n",
            "count   9994.000000  9994.000000  9994.000000  9994.000000    9994.000000   \n",
            "mean     229.858001    28.656896     3.789574     0.156203       3.958175   \n",
            "std      623.245101   234.260108     2.225110     0.206452       1.747567   \n",
            "min        0.444000 -6599.978000     1.000000     0.000000       0.000000   \n",
            "25%       17.280000     1.728750     2.000000     0.000000       3.000000   \n",
            "50%       54.490000     8.666500     3.000000     0.200000       4.000000   \n",
            "75%      209.940000    29.364000     5.000000     0.200000       5.000000   \n",
            "max    22638.480000  8399.976000    14.000000     0.800000       7.000000   \n",
            "\n",
            "       Profit Margin  \n",
            "count    9994.000000  \n",
            "mean       12.031393  \n",
            "std        46.675435  \n",
            "min      -275.000000  \n",
            "25%         7.500000  \n",
            "50%        27.000000  \n",
            "75%        36.250000  \n",
            "max        50.000000  \n"
          ]
        }
      ]
    },
    {
      "cell_type": "code",
      "source": [
        "# Contagem de valores únicos para colunas categóricas\n",
        "print(df['Category'].value_counts())\n",
        "print(df['Region'].value_counts())\n",
        "print(df['Segment'].value_counts())"
      ],
      "metadata": {
        "colab": {
          "base_uri": "https://localhost:8080/"
        },
        "id": "HMJLNLRa4dWZ",
        "outputId": "39328a11-d2ef-4af6-c272-f6cd4c0ddb0a"
      },
      "execution_count": 22,
      "outputs": [
        {
          "output_type": "stream",
          "name": "stdout",
          "text": [
            "Category\n",
            "Office Supplies    6026\n",
            "Furniture          2121\n",
            "Technology         1847\n",
            "Name: count, dtype: int64\n",
            "Region\n",
            "West       3203\n",
            "East       2848\n",
            "Central    2323\n",
            "South      1620\n",
            "Name: count, dtype: int64\n",
            "Segment\n",
            "Consumer       5191\n",
            "Corporate      3020\n",
            "Home Office    1783\n",
            "Name: count, dtype: int64\n"
          ]
        }
      ]
    },
    {
      "cell_type": "markdown",
      "source": [
        "##Visualizações básicas"
      ],
      "metadata": {
        "id": "JtX8Y7kA1VeD"
      }
    },
    {
      "cell_type": "markdown",
      "source": [
        "Histograma de vendas"
      ],
      "metadata": {
        "id": "sFw7X2uv1Zyv"
      }
    },
    {
      "cell_type": "code",
      "source": [
        "plt.figure(figsize=(10, 6))\n",
        "sns.histplot(df['Sales'], bins=30, kde=True, color='blue', edgecolor='black', log_scale=True)\n",
        "plt.title('Distribuição de Vendas (Escala Logarítmica)', fontsize=16)\n",
        "plt.xlabel('Valor das Vendas (log)', fontsize=12)\n",
        "plt.ylabel('Frequência', fontsize=12)\n",
        "plt.legend(['Distribuição', 'Densidade'], fontsize=12)\n",
        "plt.show()"
      ],
      "metadata": {
        "colab": {
          "base_uri": "https://localhost:8080/",
          "height": 576
        },
        "id": "nr5d5psC1ZaG",
        "outputId": "7fcb574f-12a4-4a4e-b7cb-963627fbb625"
      },
      "execution_count": 23,
      "outputs": [
        {
          "output_type": "display_data",
          "data": {
            "text/plain": [
              "<Figure size 1000x600 with 1 Axes>"
            ],
            "image/png": "[encoded data removed]"
          },
          "metadata": {}
        }
      ]
    },
    {
      "cell_type": "markdown",
      "source": [
        "Insight:\n",
        "\n",
        "1. Distribuição das vendas:\n",
        "\n",
        "  * A maioria das vendas está concentrada na faixa de 10¹ a 10²(ou seja, entre 10 e 100 unidades monetárias).\n",
        "\n",
        "  * Há uma cauda longa à direita, indicando que algumas vendas são muito maiores (ex.: 10³ e 10⁴ , ou seja, 1.000 a 10.000 unidades monetárias). Esses valores podem representar vendas excepcionais ou outliers.\n",
        "\n",
        "2. Distribuição assimétrica:\n",
        "\n",
        "  * A distribuição é assimétrica à direita, o que é comum em dados de vendas. Isso indica que, embora a maioria das transações seja de valor baixo, há um número significativo de transações de alto valor que contribuem para o faturamento total.\n",
        "\n",
        "3. Relevância para o negócio:\n",
        "\n",
        "  * A concentração de vendas na faixa de 10 a 100 unidades monetárias sugere que a loja tem uma base sólida de transações de menor valor, possivelmente de clientes individuais ou pequenas empresas.\n",
        "\n",
        "  * As vendas muito altas (cauda longa) representam oportunidades estratégicas. Essas transações podem ser de clientes corporativos ou compras em grande volume, que devem ser priorizadas com estratégias de fidelização e atendimento personalizado.\n"
      ],
      "metadata": {
        "id": "VjIJhGP19Xo0"
      }
    },
    {
      "cell_type": "markdown",
      "source": [
        "Boxplot de lucro por categoria"
      ],
      "metadata": {
        "id": "Ij8WpRaw1z80"
      }
    },
    {
      "cell_type": "code",
      "source": [
        "plt.figure(figsize=(10, 6))\n",
        "sns.boxplot(x='Category', y='Profit', data=df)\n",
        "plt.title('Lucro por Categoria', fontsize=16)\n",
        "plt.xlabel('Categoria', fontsize=12)\n",
        "plt.ylabel('Lucro', fontsize=12)\n",
        "plt.show()"
      ],
      "metadata": {
        "colab": {
          "base_uri": "https://localhost:8080/",
          "height": 570
        },
        "id": "mEngFzTT11Pg",
        "outputId": "190d3acf-7f87-417e-ba2b-b830089a95b1"
      },
      "execution_count": 24,
      "outputs": [
        {
          "output_type": "display_data",
          "data": {
            "text/plain": [
              "<Figure size 1000x600 with 1 Axes>"
            ],
            "image/png": "[encoded data removed]"
          },
          "metadata": {}
        }
      ]
    },
    {
      "cell_type": "markdown",
      "source": [
        "Insights:\n",
        "1. Lucro por categoria:\n",
        "\n",
        "  * A categoria **Technology** tem o maior lucro médio, seguida por **Furniture** e **Office Supplies**.\n",
        "\n",
        "  * A categoria **Office Supplies** apresenta alguns valores negativos de lucro, o que pode indicar problemas de precificação ou custos elevados.\n",
        "\n",
        "2. Variação do lucro:\n",
        "\n",
        "  * A categoria **Technology** tem a maior variação de lucro, com alguns valores muito altos e outros relativamente baixos.\n",
        "\n",
        "  * A categoria **Furniture** tem uma distribuição mais equilibrada, mas ainda com alguns valores negativos.\n",
        "\n",
        "3. Relevância para o negócio:\n",
        "\n",
        "  * A loja pode focar em estratégias para aumentar o lucro nas categorias **Furniture** e **Office Supplies**, como ajustes de preços ou redução de custos.\n",
        "\n",
        "  * A categoria **Technology** deve ser mantida como prioridade, dada sua alta lucratividade."
      ],
      "metadata": {
        "id": "4sDU2T_3_FCF"
      }
    },
    {
      "cell_type": "markdown",
      "source": [
        "Matriz de correlação"
      ],
      "metadata": {
        "id": "k3AU6Ia914vC"
      }
    },
    {
      "cell_type": "code",
      "source": [
        "corr_matrix = df[['Sales', 'Profit', 'Quantity', 'Discount', 'Delivery Time', 'Profit Margin']].corr()\n",
        "plt.figure(figsize=(10, 6))\n",
        "sns.heatmap(corr_matrix, annot=True, cmap='coolwarm', vmin=-1, vmax=1)\n",
        "plt.title('Matriz de Correlação', fontsize=16)\n",
        "plt.show()"
      ],
      "metadata": {
        "colab": {
          "base_uri": "https://localhost:8080/",
          "height": 547
        },
        "id": "Ear_NZLe169L",
        "outputId": "7865eb4d-71bb-4f6d-8fe8-4b31ce5087f9"
      },
      "execution_count": 25,
      "outputs": [
        {
          "output_type": "display_data",
          "data": {
            "text/plain": [
              "<Figure size 1000x600 with 2 Axes>"
            ],
            "image/png": "[encoded data removed]"
          },
          "metadata": {}
        }
      ]
    },
    {
      "cell_type": "markdown",
      "source": [
        "Insights:\n",
        "1. Correlações fortes:\n",
        "\n",
        "  * **Sales** e **Profit** têm uma correlação positiva moderada (0.48), indicando que vendas mais altas tendem a gerar mais lucro.\n",
        "\n",
        "  * **Discount** e **Profit Margin** têm uma correlação negativa forte (-0.86), sugerindo que descontos maiores reduzem significativamente a margem de lucro.\n",
        "\n",
        "2. Correlações fracas:\n",
        "\n",
        "  * **Quantity** tem uma correlação positiva fraca com **Sales** (0.2), indicando que a quantidade vendida tem um impacto limitado no valor total das vendas.\n",
        "\n",
        "  * **Delivery Time** não tem correlação significativa com nenhuma das variáveis analisadas.\n",
        "\n",
        "3. Relevância para o negócio:\n",
        "\n",
        "  * A loja deve evitar descontos excessivos, pois eles impactam negativamente a margem de lucro.\n",
        "\n",
        "  * Estratégias para aumentar a quantidade vendida podem ter um impacto limitado no valor total das vendas, mas podem ser úteis para aumentar a base de clientes."
      ],
      "metadata": {
        "id": "6ipmb3jo_56m"
      }
    },
    {
      "cell_type": "code",
      "source": [
        "top_products = df.groupby('Product Name')['Sales'].sum().sort_values(ascending=False).head(10)\n",
        "print(top_products)"
      ],
      "metadata": {
        "colab": {
          "base_uri": "https://localhost:8080/"
        },
        "id": "8gdTWNnrRxDR",
        "outputId": "30946f2d-7d8b-45ed-9b32-ad57bb2cf62d"
      },
      "execution_count": 26,
      "outputs": [
        {
          "output_type": "stream",
          "name": "stdout",
          "text": [
            "Product Name\n",
            "Canon imageCLASS 2200 Advanced Copier                                          61599.824\n",
            "Fellowes PB500 Electric Punch Plastic Comb Binding Machine with Manual Bind    27453.384\n",
            "Cisco TelePresence System EX90 Videoconferencing Unit                          22638.480\n",
            "HON 5400 Series Task Chairs for Big and Tall                                   21870.576\n",
            "GBC DocuBind TL300 Electric Binding System                                     19823.479\n",
            "GBC Ibimaster 500 Manual ProClick Binding System                               19024.500\n",
            "Hewlett Packard LaserJet 3310 Copier                                           18839.686\n",
            "HP Designjet T520 Inkjet Large Format Printer - 24\" Color                      18374.895\n",
            "GBC DocuBind P400 Electric Binding System                                      17965.068\n",
            "High Speed Automatic Electric Letter Opener                                    17030.312\n",
            "Name: Sales, dtype: float64\n"
          ]
        }
      ]
    },
    {
      "cell_type": "markdown",
      "source": [
        "#Previsão de vendas"
      ],
      "metadata": {
        "id": "krgpcWp3AEb8"
      }
    },
    {
      "cell_type": "code",
      "source": [
        "import pandas as pd\n",
        "from sklearn.model_selection import train_test_split, cross_val_score\n",
        "from sklearn.preprocessing import StandardScaler\n",
        "from sklearn.pipeline import make_pipeline\n",
        "from sklearn.linear_model import LinearRegression\n",
        "from sklearn.tree import DecisionTreeRegressor\n",
        "from sklearn.ensemble import RandomForestRegressor, GradientBoostingRegressor\n",
        "from sklearn.svm import SVR\n",
        "from sklearn.neighbors import KNeighborsRegressor\n",
        "from sklearn.neural_network import MLPRegressor\n",
        "from xgboost import XGBRegressor\n",
        "from sklearn.metrics import mean_squared_error, r2_score\n",
        "from sklearn.model_selection import GridSearchCV"
      ],
      "metadata": {
        "id": "zTqC2uGRHCVc"
      },
      "execution_count": 27,
      "outputs": []
    },
    {
      "cell_type": "markdown",
      "source": [
        "## Preparação dos dados"
      ],
      "metadata": {
        "id": "P7RtJKDeAnMh"
      }
    },
    {
      "cell_type": "code",
      "source": [
        "# Codificar variáveis categóricas\n",
        "df_encoded = pd.get_dummies(df, columns=['Category', 'Region', 'Segment'])\n",
        "\n",
        "# Selecionar variáveis independentes e dependente\n",
        "X = df_encoded.drop(['Sales', 'Order Date', 'Ship Date', 'Customer Name', 'Product Name'], axis=1)\n",
        "y = df_encoded['Sales']\n",
        "\n",
        "# Dividir os dados\n",
        "X_train, X_test, y_train, y_test = train_test_split(X, y, test_size=0.2, random_state=42)\n",
        "\n",
        "# Converter todas as colunas para numéricas (se necessário)\n",
        "X_train = X_train.apply(pd.to_numeric, errors='coerce')\n",
        "X_test = X_test.apply(pd.to_numeric, errors='coerce')\n",
        "\n",
        "# Preencher valores nulos (ex.: com 0 ou média)\n",
        "X_train = X_train.fillna(0)\n",
        "X_test = X_test.fillna(0)"
      ],
      "metadata": {
        "id": "rO0o-uhUAVNf"
      },
      "execution_count": 28,
      "outputs": []
    },
    {
      "cell_type": "code",
      "source": [
        "print(X_train.head())\n",
        "print(y_train.head())"
      ],
      "metadata": {
        "colab": {
          "base_uri": "https://localhost:8080/"
        },
        "id": "f3H6MwHkOZgX",
        "outputId": "a7f5f1ef-a48d-478e-d671-8f440fc99a0f"
      },
      "execution_count": 29,
      "outputs": [
        {
          "output_type": "stream",
          "name": "stdout",
          "text": [
            "      Row ID  Order ID  Ship Mode  Customer ID  Country  City  State  \\\n",
            "4100    4101       0.0        0.0          0.0      0.0   0.0    0.0   \n",
            "2586    2587       0.0        0.0          0.0      0.0   0.0    0.0   \n",
            "9194    9195       0.0        0.0          0.0      0.0   0.0    0.0   \n",
            "2002    2003       0.0        0.0          0.0      0.0   0.0    0.0   \n",
            "7225    7226       0.0        0.0          0.0      0.0   0.0    0.0   \n",
            "\n",
            "      Postal Code  Product ID  Sub-Category  ...  Category_Furniture  \\\n",
            "4100        77095         0.0           0.0  ...               False   \n",
            "2586        10024         0.0           0.0  ...               False   \n",
            "9194        85323         0.0           0.0  ...               False   \n",
            "2002        40214         0.0           0.0  ...               False   \n",
            "7225        94122         0.0           0.0  ...                True   \n",
            "\n",
            "      Category_Office Supplies  Category_Technology  Region_Central  \\\n",
            "4100                      True                False            True   \n",
            "2586                      True                False           False   \n",
            "9194                      True                False           False   \n",
            "2002                      True                False           False   \n",
            "7225                     False                False           False   \n",
            "\n",
            "      Region_East  Region_South  Region_West  Segment_Consumer  \\\n",
            "4100        False         False        False              True   \n",
            "2586         True         False        False              True   \n",
            "9194        False         False         True              True   \n",
            "2002        False          True        False              True   \n",
            "7225        False         False         True              True   \n",
            "\n",
            "      Segment_Corporate  Segment_Home Office  \n",
            "4100              False                False  \n",
            "2586              False                False  \n",
            "9194              False                False  \n",
            "2002              False                False  \n",
            "7225              False                False  \n",
            "\n",
            "[5 rows x 28 columns]\n",
            "4100      2.264\n",
            "2586    248.570\n",
            "9194     47.992\n",
            "2002     95.940\n",
            "7225     30.800\n",
            "Name: Sales, dtype: float64\n"
          ]
        }
      ]
    },
    {
      "cell_type": "markdown",
      "source": [
        "## Escolhendo o algorítmo de regressão"
      ],
      "metadata": {
        "id": "jtqSfvBGAp72"
      }
    },
    {
      "cell_type": "code",
      "source": [
        "from sklearn.model_selection import cross_val_score\n",
        "from sklearn.preprocessing import StandardScaler\n",
        "from sklearn.pipeline import make_pipeline\n",
        "from sklearn.metrics import mean_squared_error, r2_score\n",
        "\n",
        "# Normalizar os dados para SVR e KNN\n",
        "scaler = StandardScaler()\n",
        "X_train_scaled = scaler.fit_transform(X_train)\n",
        "X_test_scaled = scaler.transform(X_test)\n",
        "\n",
        "# Atualizar a lista de algoritmos com pipelines\n",
        "algorithms = [\n",
        "    ('Linear Regression', LinearRegression()),\n",
        "    ('Decision Tree', DecisionTreeRegressor(random_state=42)),\n",
        "    ('Random Forest', RandomForestRegressor(random_state=42)),\n",
        "    ('Gradient Boosting', GradientBoostingRegressor(random_state=42)),\n",
        "    ('Support Vector Regression', make_pipeline(StandardScaler(), SVR())),\n",
        "    ('K-Nearest Neighbors', make_pipeline(StandardScaler(), KNeighborsRegressor())),\n",
        "    ('Multi-Layer Perceptron', MLPRegressor(random_state=42, max_iter=1000)),\n",
        "    ('XGBoost', XGBRegressor(random_state=42))\n",
        "]\n",
        "\n",
        "# Dicionário para armazenar os resultados\n",
        "results = {}\n",
        "\n",
        "# Testar cada algoritmo\n",
        "for name, model in algorithms:\n",
        "    # Treinar o modelo\n",
        "    if 'Support Vector Regression' in name or 'K-Nearest Neighbors' in name:\n",
        "        model.fit(X_train_scaled, y_train)\n",
        "        y_pred = model.predict(X_test_scaled)\n",
        "    else:\n",
        "        model.fit(X_train, y_train)\n",
        "        y_pred = model.predict(X_test)\n",
        "\n",
        "    # Calcular métricas no conjunto de teste\n",
        "    mse = mean_squared_error(y_test, y_pred)\n",
        "    r2 = r2_score(y_test, y_pred)\n",
        "\n",
        "    # Validação cruzada no conjunto de treino\n",
        "    cv_scores = cross_val_score(model, X_train, y_train, cv=5, scoring='r2')\n",
        "    cv_r2_mean = cv_scores.mean()\n",
        "    cv_r2_std = cv_scores.std()\n",
        "\n",
        "    # Armazenar resultados\n",
        "    results[name] = {\n",
        "        'MSE': mse,\n",
        "        'R²': r2,\n",
        "        'CV R² (Mean)': cv_r2_mean,\n",
        "        'CV R² (Std)': cv_r2_std\n",
        "    }\n",
        "\n",
        "    # Exibir resultados\n",
        "    print(f'{name}:')\n",
        "    print(f'  MSE: {mse:.2f}')\n",
        "    print(f'  R²: {r2:.2f}')\n",
        "    print(f'  CV R² (Mean): {cv_r2_mean:.2f}')\n",
        "    print(f'  CV R² (Std): {cv_r2_std:.2f}')\n",
        "    print('-' * 40)"
      ],
      "metadata": {
        "colab": {
          "base_uri": "https://localhost:8080/"
        },
        "id": "gZmUc6biGp2T",
        "outputId": "a4a877de-1998-444a-ac4d-ceffb2c8fd7f"
      },
      "execution_count": 30,
      "outputs": [
        {
          "output_type": "stream",
          "name": "stdout",
          "text": [
            "Linear Regression:\n",
            "  MSE: 654557.12\n",
            "  R²: -0.11\n",
            "  CV R² (Mean): 0.38\n",
            "  CV R² (Std): 0.31\n",
            "----------------------------------------\n",
            "Decision Tree:\n",
            "  MSE: 309183.57\n",
            "  R²: 0.48\n",
            "  CV R² (Mean): 0.87\n",
            "  CV R² (Std): 0.06\n",
            "----------------------------------------\n",
            "Random Forest:\n",
            "  MSE: 212284.78\n",
            "  R²: 0.64\n",
            "  CV R² (Mean): 0.92\n",
            "  CV R² (Std): 0.05\n",
            "----------------------------------------\n",
            "Gradient Boosting:\n",
            "  MSE: 150153.71\n",
            "  R²: 0.75\n",
            "  CV R² (Mean): 0.94\n",
            "  CV R² (Std): 0.04\n",
            "----------------------------------------\n",
            "Support Vector Regression:\n",
            "  MSE: 606905.16\n",
            "  R²: -0.03\n",
            "  CV R² (Mean): -0.04\n",
            "  CV R² (Std): 0.00\n",
            "----------------------------------------\n",
            "K-Nearest Neighbors:\n",
            "  MSE: 352475.61\n",
            "  R²: 0.40\n",
            "  CV R² (Mean): 0.57\n",
            "  CV R² (Std): 0.11\n",
            "----------------------------------------\n",
            "Multi-Layer Perceptron:\n",
            "  MSE: 317810.48\n",
            "  R²: 0.46\n",
            "  CV R² (Mean): 0.72\n",
            "  CV R² (Std): 0.09\n",
            "----------------------------------------\n",
            "XGBoost:\n",
            "  MSE: 261422.46\n",
            "  R²: 0.56\n",
            "  CV R² (Mean): 0.74\n",
            "  CV R² (Std): 0.09\n",
            "----------------------------------------\n"
          ]
        }
      ]
    },
    {
      "cell_type": "markdown",
      "source": [
        "Com os resultados apresentados, o Gradiente Boosting é o melhor algorítmo para trabalharmos."
      ],
      "metadata": {
        "id": "oSZxOgTEC0FF"
      }
    },
    {
      "cell_type": "code",
      "source": [
        "# Criar o modelo Gradient Boosting com parâmetros padrão\n",
        "gb_model = GradientBoostingRegressor(random_state=42)\n",
        "\n",
        "# Treinar o modelo\n",
        "gb_model.fit(X_train, y_train)\n",
        "\n",
        "# Fazer previsões no conjunto de teste\n",
        "y_pred = gb_model.predict(X_test)\n",
        "\n",
        "# Avaliar o modelo\n",
        "mse = mean_squared_error(y_test, y_pred)\n",
        "r2 = r2_score(y_test, y_pred)\n",
        "\n",
        "print(f'MSE: {mse:.2f}')\n",
        "print(f'R²: {r2:.2f}')"
      ],
      "metadata": {
        "colab": {
          "base_uri": "https://localhost:8080/"
        },
        "id": "t6KLPwDBHleU",
        "outputId": "95d20b29-3f2d-4bbd-a263-c9c6a99f1aa7"
      },
      "execution_count": 31,
      "outputs": [
        {
          "output_type": "stream",
          "name": "stdout",
          "text": [
            "MSE: 150153.71\n",
            "R²: 0.75\n"
          ]
        }
      ]
    },
    {
      "cell_type": "code",
      "source": [
        "# Obter importância das features\n",
        "feature_importance = gb_model.feature_importances_\n",
        "feature_names = X_train.columns\n",
        "\n",
        "# Criar um DataFrame para visualização\n",
        "importance_df = pd.DataFrame({'Feature': feature_names, 'Importance': feature_importance})\n",
        "importance_df = importance_df.sort_values(by='Importance', ascending=False)\n",
        "\n",
        "# Exibir as features mais importantes\n",
        "print(importance_df)"
      ],
      "metadata": {
        "colab": {
          "base_uri": "https://localhost:8080/"
        },
        "id": "x646uNwZOeo_",
        "outputId": "3835ed98-0051-4143-d582-756195b1c0a4"
      },
      "execution_count": 32,
      "outputs": [
        {
          "output_type": "stream",
          "name": "stdout",
          "text": [
            "                     Feature    Importance\n",
            "12                    Profit  8.449649e-01\n",
            "17             Profit Margin  1.293799e-01\n",
            "11                  Discount  8.825888e-03\n",
            "19  Category_Office Supplies  5.791383e-03\n",
            "10                  Quantity  2.204089e-03\n",
            "20       Category_Technology  2.093603e-03\n",
            "16             Delivery Time  1.853867e-03\n",
            "26         Segment_Corporate  1.407268e-03\n",
            "0                     Row ID  1.210194e-03\n",
            "7                Postal Code  8.160190e-04\n",
            "18        Category_Furniture  7.266936e-04\n",
            "25          Segment_Consumer  4.372819e-04\n",
            "13               Order Month  2.320492e-04\n",
            "21            Region_Central  5.645513e-05\n",
            "14                Order Year  4.290458e-07\n",
            "15         Order Day of Week  0.000000e+00\n",
            "1                   Order ID  0.000000e+00\n",
            "9               Sub-Category  0.000000e+00\n",
            "8                 Product ID  0.000000e+00\n",
            "6                      State  0.000000e+00\n",
            "5                       City  0.000000e+00\n",
            "4                    Country  0.000000e+00\n",
            "22               Region_East  0.000000e+00\n",
            "23              Region_South  0.000000e+00\n",
            "24               Region_West  0.000000e+00\n",
            "3                Customer ID  0.000000e+00\n",
            "2                  Ship Mode  0.000000e+00\n",
            "27       Segment_Home Office  0.000000e+00\n"
          ]
        }
      ]
    },
    {
      "cell_type": "code",
      "source": [
        "# Lista de features com importância zero\n",
        "features_to_drop = importance_df[importance_df['Importance'] == 0]['Feature'].tolist()\n",
        "\n",
        "# Remover features do conjunto de treino e teste\n",
        "X_train_refined = X_train.drop(features_to_drop, axis=1)\n",
        "X_test_refined = X_test.drop(features_to_drop, axis=1)\n",
        "\n",
        "# Treinar o modelo refinado\n",
        "gb_model_refined = GradientBoostingRegressor(random_state=42)\n",
        "gb_model_refined.fit(X_train_refined, y_train)\n",
        "\n",
        "# Fazer previsões\n",
        "y_pred_refined = gb_model_refined.predict(X_test_refined)\n",
        "\n",
        "# Avaliar o modelo refinado\n",
        "mse_refined = mean_squared_error(y_test, y_pred_refined)\n",
        "r2_refined = r2_score(y_test, y_pred_refined)\n",
        "\n",
        "print(f'MSE (Refinado): {mse_refined:.2f}')\n",
        "print(f'R² (Refinado): {r2_refined:.2f}')"
      ],
      "metadata": {
        "colab": {
          "base_uri": "https://localhost:8080/"
        },
        "id": "Cb8a-qYUO9wP",
        "outputId": "a0926ae0-22ad-441d-cceb-6c917d44ab12"
      },
      "execution_count": 33,
      "outputs": [
        {
          "output_type": "stream",
          "name": "stdout",
          "text": [
            "MSE (Refinado): 151312.73\n",
            "R² (Refinado): 0.74\n"
          ]
        }
      ]
    },
    {
      "cell_type": "markdown",
      "source": [
        "## Fazendo previsões"
      ],
      "metadata": {
        "id": "Kvv-WEBvPvx8"
      }
    },
    {
      "cell_type": "code",
      "source": [
        "# Fazer previsões\n",
        "y_pred_new = gb_model_refined.predict(X_test_refined)\n",
        "\n",
        "# Exibir as previsões\n",
        "print(\"Previsões de Vendas:\", y_pred_new[:10])  # Mostrar as 10 primeiras previsões"
      ],
      "metadata": {
        "colab": {
          "base_uri": "https://localhost:8080/"
        },
        "id": "iq1G3ymBPu0G",
        "outputId": "62dcba5b-9c07-47ce-e406-9dbc7df914de"
      },
      "execution_count": 34,
      "outputs": [
        {
          "output_type": "stream",
          "name": "stdout",
          "text": [
            "Previsões de Vendas: [483.21235475  21.37799819  69.3488747  221.31872498 245.7040621\n",
            " 119.43008986 313.95486396   6.32920695   0.94898444  74.24071306]\n"
          ]
        }
      ]
    },
    {
      "cell_type": "code",
      "source": [
        "# Configurações do gráfico\n",
        "plt.figure(figsize=(10, 8))  # Tamanho do gráfico\n",
        "sns.set(style=\"whitegrid\")  # Estilo do gráfico\n",
        "\n",
        "# Gráfico de dispersão (scatter plot)\n",
        "sns.scatterplot(x=y_test, y=y_pred_new, alpha=0.6, color='blue', edgecolor='black')\n",
        "\n",
        "# Linha de referência (y = x)\n",
        "plt.plot([y_test.min(), y_test.max()], [y_test.min(), y_test.max()], 'r--', lw=2, label='Linha de Referência (y = x)')\n",
        "\n",
        "# Títulos e rótulos\n",
        "plt.title('Previsões vs Valores Reais', fontsize=18, pad=20)\n",
        "plt.xlabel('Valores Reais', fontsize=14)\n",
        "plt.ylabel('Previsões', fontsize=14)\n",
        "\n",
        "# Ajustar limites dos eixos\n",
        "plt.xlim(0, y_test.max() * 1.1)  # Limite do eixo X\n",
        "plt.ylim(0, y_pred_new.max() * 1.1)  # Limite do eixo Y\n",
        "\n",
        "# Adicionar legenda\n",
        "plt.legend(fontsize=12)\n",
        "\n",
        "# Mostrar o gráfico\n",
        "plt.show()"
      ],
      "metadata": {
        "colab": {
          "base_uri": "https://localhost:8080/",
          "height": 752
        },
        "id": "ZoGqH5rtP1sP",
        "outputId": "d0556eed-9c19-40f7-b712-115b434a9f9b"
      },
      "execution_count": 35,
      "outputs": [
        {
          "output_type": "display_data",
          "data": {
            "text/plain": [
              "<Figure size 1000x800 with 1 Axes>"
            ],
            "image/png": "[encoded data removed]"
          },
          "metadata": {}
        }
      ]
    }
  ]
}